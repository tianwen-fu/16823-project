{
 "cells": [
  {
   "cell_type": "code",
   "execution_count": 1,
   "metadata": {},
   "outputs": [],
   "source": [
    "import numpy as np\n",
    "import matplotlib.pyplot as plt\n"
   ]
  },
  {
   "cell_type": "code",
   "execution_count": 2,
   "metadata": {},
   "outputs": [],
   "source": [
    "def phi_hat(phi, eps, alb):\n",
    "    return np.arctan((alb * np.sin(phi) + np.sin(eps)) / (alb * np.cos(phi) + np.cos(eps)))"
   ]
  },
  {
   "cell_type": "code",
   "execution_count": 10,
   "metadata": {},
   "outputs": [],
   "source": [
    "N = 1000000\n",
    "phi_true = 0\n",
    "eps = np.random.normal(0, np.pi / 4, size=(N, ))"
   ]
  },
  {
   "cell_type": "code",
   "execution_count": 40,
   "metadata": {},
   "outputs": [],
   "source": [
    "def plot_hists(phi_true, eps, albs, saveto):\n",
    "    fig = plt.figure(figsize=(3.5, 2.5), dpi=600)\n",
    "    for alb in albs:\n",
    "        phi_hats = phi_hat(phi_true, eps, alb)\n",
    "        plt.hist(phi_hats - phi_true, bins=100, weights=np.ones_like(phi_hats) / phi_hats.size,\n",
    "                 label=f'$a = {alb}b$', histtype='step')\n",
    "    plt.xlim([-0.15, 0.15])\n",
    "    plt.xlabel(r'$\\hat{\\varphi} - \\varphi$ (rad)')\n",
    "    plt.ylabel('Frequency')\n",
    "    plt.legend()\n",
    "    plt.savefig(saveto, bbox_inches='tight', pad_inches=0)\n",
    "    plt.close(fig)"
   ]
  },
  {
   "cell_type": "code",
   "execution_count": 41,
   "metadata": {},
   "outputs": [],
   "source": [
    "plot_hists(np.pi / 8, eps, [10, 100, 1000], 'phi_true=pi_8.pdf')\n",
    "plot_hists(np.pi / 4, eps, [10, 100, 1000], 'phi_true=pi_4.pdf')\n",
    "plot_hists(np.pi / 2, eps, [10, 100, 1000], 'phi_true=pi_2.pdf')"
   ]
  },
  {
   "cell_type": "code",
   "execution_count": null,
   "metadata": {},
   "outputs": [],
   "source": []
  }
 ],
 "metadata": {
  "kernelspec": {
   "display_name": "royale",
   "language": "python",
   "name": "python3"
  },
  "language_info": {
   "codemirror_mode": {
    "name": "ipython",
    "version": 3
   },
   "file_extension": ".py",
   "mimetype": "text/x-python",
   "name": "python",
   "nbconvert_exporter": "python",
   "pygments_lexer": "ipython3",
   "version": "3.10.10"
  },
  "orig_nbformat": 4
 },
 "nbformat": 4,
 "nbformat_minor": 2
}
